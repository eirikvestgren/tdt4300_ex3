{
 "cells": [
  {
   "cell_type": "markdown",
   "metadata": {},
   "source": [
    "# k-Means Clustering\n",
    "\n",
    "In this notebook, you will implement the k-means clustering algorithm.\n",
    "\n",
    "## Packages\n",
    "\n",
    "Following packages is all you need. Do not import any additional packages!\n",
    "\n",
    "In case you are not familiar with [Numpy](http://www.numpy.org/) library, it provides support for large multi-dimensional arrays and matrices, along with functions to operate on these. [Matplotlib](https://matplotlib.org/) is a plotting library."
   ]
  },
  {
   "cell_type": "code",
   "execution_count": null,
   "metadata": {
    "collapsed": true
   },
   "outputs": [],
   "source": [
    "import numpy as np\n",
    "%matplotlib inline\n",
    "from matplotlib import pyplot as plt"
   ]
  },
  {
   "cell_type": "markdown",
   "metadata": {},
   "source": [
    "## Function\n",
    "\n",
    "A function for plotting that we are going to use later on."
   ]
  },
  {
   "cell_type": "code",
   "execution_count": null,
   "metadata": {
    "collapsed": true
   },
   "outputs": [],
   "source": [
    "def plot_clusters(data, centroids):\n",
    "    \"\"\"\n",
    "    Shows a scatter plot with the data points clustered according to the centroids.\n",
    "    \"\"\"\n",
    "    # Assigning the data points to clusters/centroids.\n",
    "    clusters = [[] for _ in range(centroids.shape[0])]\n",
    "    for i in range(data.shape[0]):\n",
    "        distances = np.linalg.norm(data[i] - centroids, axis=1)\n",
    "        clusters[np.argmin(distances)].append(data[i])\n",
    "\n",
    "    # Plotting clusters and centroids.\n",
    "    fig, ax = plt.subplots()\n",
    "    for c in range(centroids.shape[0]):\n",
    "        if len(clusters[c]) > 0:\n",
    "            cluster = np.array(clusters[c])\n",
    "            ax.scatter(cluster[:, 0], cluster[:, 1], s=7)\n",
    "    ax.scatter(centroids[:, 0], centroids[:, 1], marker='x', s=200, c='red')"
   ]
  },
  {
   "cell_type": "markdown",
   "metadata": {},
   "source": [
    "## Data\n",
    "\n",
    "Let us generate a dataset you are going to play with. We will stay in the Euclidean space because it is easy to plot."
   ]
  },
  {
   "cell_type": "code",
   "execution_count": null,
   "metadata": {
    "collapsed": true,
    "scrolled": false
   },
   "outputs": [],
   "source": [
    "# We would like to have some control over the randomly generated data.\n",
    "# This is just for development purposes.\n",
    "np.random.seed(1)\n",
    "\n",
    "# Euclidean space.\n",
    "DIMENSIONS = 2\n",
    "\n",
    "# We will generate three clusters.\n",
    "CLUSTERS = [\n",
    "    {\n",
    "        'mean': (50, 50),\n",
    "        'std': (10, 5),\n",
    "        'size': 300\n",
    "    },\n",
    "    {\n",
    "        'mean': (10, 25),\n",
    "        'std': (7, 7),\n",
    "        'size': 400\n",
    "    },\n",
    "    {\n",
    "        'mean': (75, 20),\n",
    "        'std': (5, 10),\n",
    "        'size': 200\n",
    "    }\n",
    "]\n",
    "\n",
    "# Initializing the dataset with zeros.\n",
    "data = np.zeros((np.sum([c['size'] for c in CLUSTERS]), DIMENSIONS))\n",
    "\n",
    "# Generating the three clusters.\n",
    "start = 0\n",
    "for c in CLUSTERS:\n",
    "    for d in range(DIMENSIONS):\n",
    "        data[start:start + c['size'], d] = np.random.normal(c['mean'][d], c['std'][d], (c['size']))\n",
    "    start += c['size']\n",
    "print(data)"
   ]
  },
  {
   "cell_type": "code",
   "execution_count": null,
   "metadata": {
    "collapsed": true
   },
   "outputs": [],
   "source": [
    "print('shape (size, dimensions) =', data.shape)"
   ]
  },
  {
   "cell_type": "markdown",
   "metadata": {},
   "source": [
    "And this is how our data look like when plotted."
   ]
  },
  {
   "cell_type": "code",
   "execution_count": null,
   "metadata": {
    "collapsed": true
   },
   "outputs": [],
   "source": [
    "plt.figure()\n",
    "plt.scatter(data[:, 0], data[:, 1], s=3)"
   ]
  },
  {
   "cell_type": "markdown",
   "metadata": {},
   "source": [
    "## Implementation\n",
    "\n",
    "A human can with an ease find three distinct clusters just by watching the plot. A computer, however, needs to be told how to find the clusters.\n",
    "\n",
    "**Exercise:**\n",
    "\n",
    "Implement the k-means clustering algorithm.\n",
    "\n",
    "* Use the Euclidean (L<sub>2</sub>) distance.\n",
    "* It is sufficient to use the basic Python constructs in your implementation, even though we heavily rely on Numpy throughout this assignment."
   ]
  },
  {
   "cell_type": "code",
   "execution_count": null,
   "metadata": {
    "collapsed": true
   },
   "outputs": [],
   "source": [
    "def kmeans(data, centroids):\n",
    "    \"\"\"\n",
    "    Function implementing the k-means clustering.\n",
    "    \n",
    "    :param data\n",
    "        points\n",
    "    :param centroids\n",
    "        initial centroids\n",
    "    :return centroids\n",
    "        updated centroids\n",
    "    \"\"\"\n",
    "    ### START CODE HERE ### \n",
    "\n",
    "    ### END CODE HERE ### \n",
    "    return centroids"
   ]
  },
  {
   "cell_type": "markdown",
   "metadata": {},
   "source": [
    "We have prepared for you a small piece of code, so that you can test that the function works according the expectations."
   ]
  },
  {
   "cell_type": "code",
   "execution_count": null,
   "metadata": {
    "collapsed": true
   },
   "outputs": [],
   "source": [
    "test_data = np.array([\n",
    "    [66.24345364, 57.31053969],\n",
    "    [43.88243586, 39.69929645],\n",
    "    [44.71828248, 48.38791398],\n",
    "    [39.27031378, 48.07972823],\n",
    "    [58.65407629, 55.66884721],\n",
    "    [26.98461303, 44.50054366],\n",
    "    [67.44811764, 49.13785896],\n",
    "    [42.38793099, 45.61070791],\n",
    "    [53.19039096, 50.21106873],\n",
    "    [47.50629625, 52.91407607],\n",
    "    [2.29566576, 20.15837474],\n",
    "    [18.01306597, 22.22272531],\n",
    "    [16.31113504, 20.1897911 ],\n",
    "    [13.51746037, 19.08356051],\n",
    "    [16.30599164, 20.30127708],\n",
    "    [5.21390499, 24.91134781],\n",
    "    [9.13976842, 17.17882756],\n",
    "    [3.44961396, 26.64090988],\n",
    "    [8.12478344, 36.61861524],\n",
    "    [13.71248827, 30.19430912],\n",
    "    [74.04082224, 23.0017032 ],\n",
    "    [70.56185518, 16.47750154],\n",
    "    [71.26420853, 8.57481802],\n",
    "    [83.46227301, 16.50657278],\n",
    "    [75.25403877, 17.91105767],\n",
    "    [71.81502177, 25.86623191],\n",
    "    [75.95457742, 28.38983414],\n",
    "    [85.50127568, 29.31102081],\n",
    "    [75.60079476, 22.85587325],\n",
    "    [78.08601555, 28.85141164]\n",
    "])\n",
    "test_centroids = np.array([\n",
    "    [25, 50],\n",
    "    [50, 50],\n",
    "    [75, 50]\n",
    "])\n",
    "\n",
    "test_centroids = kmeans(data, test_centroids)\n",
    "\n",
    "print('c0 =', test_centroids[0])\n",
    "print('c1 =', test_centroids[1])\n",
    "print('c2 =', test_centroids[2])\n",
    "plot_clusters(test_data, test_centroids)"
   ]
  },
  {
   "cell_type": "markdown",
   "metadata": {},
   "source": [
    "We expect the output to be similar to following.\n",
    "\n",
    "```\n",
    "c0 = [ 9 25]\n",
    "c1 = [50 50]\n",
    "c2 = [75 20]\n",
    "```\n",
    "\n",
    "If it is not the case, review your implementation, debug your algorithm, try it on paper, ..."
   ]
  },
  {
   "cell_type": "markdown",
   "metadata": {},
   "source": [
    "## Clustering\n",
    "\n",
    "Ready to run your implementation of k-means clustering on the dataset? Let's do it...\n",
    "\n",
    "First, we need to initialize the centroids. We will go for a random initialization eventhough there are some disadvantages of doing so (see the Introduction to Data Mining from Tan et al.)."
   ]
  },
  {
   "cell_type": "code",
   "execution_count": null,
   "metadata": {
    "collapsed": true
   },
   "outputs": [],
   "source": [
    "# Number of clusters.\n",
    "K = 3\n",
    "\n",
    "# Boundaries of our data.\n",
    "x_min = np.min(data[:, 0])\n",
    "x_max = np.max(data[:, 0])\n",
    "y_min = np.min(data[:, 1])\n",
    "y_max = np.max(data[:, 1])\n",
    "\n",
    "# Generating random centroids within the data boundaries.\n",
    "centroids = np.zeros((K, data.shape[1]))\n",
    "centroids[:, 0] = np.random.randint(x_min, x_max, size=K)\n",
    "centroids[:, 1] = np.random.randint(y_min, y_max, size=K)\n",
    "\n",
    "print('c0 =', centroids[0])\n",
    "print('c1 =', centroids[1])\n",
    "print('c2 =', centroids[2])\n",
    "plot_clusters(data, centroids)"
   ]
  },
  {
   "cell_type": "markdown",
   "metadata": {},
   "source": [
    "Finally, we run the `kmeans()` function you have implemented."
   ]
  },
  {
   "cell_type": "code",
   "execution_count": null,
   "metadata": {
    "collapsed": true
   },
   "outputs": [],
   "source": [
    "centroids = kmeans(data, centroids)\n",
    "\n",
    "print('c0 =', centroids[0])\n",
    "print('c1 =', centroids[1])\n",
    "print('c2 =', centroids[2])\n",
    "plot_clusters(data, centroids)"
   ]
  },
  {
   "cell_type": "markdown",
   "metadata": {},
   "source": [
    "Congratulations! At this point, hopefully, you have found all three distinct clusters with the centroids aligned in their centers.\n",
    "\n",
    "## Comments\n",
    "\n",
    "Our k-means clustering implementation can be characterized as a naive. This is for following reasons:\n",
    "\n",
    "* We are evaluating only one `k` value instead of trying multiple.\n",
    "* We are initializing the centroids randomly instead of using some heuristic.\n",
    "* We are initializing and evaluating only one set of centroids instead of initializing multiple sets and analyzing their SSE (Sum of Squared Errors).\n",
    "\n",
    "✌️"
   ]
  }
 ],
 "metadata": {
  "kernelspec": {
   "display_name": "Python 3",
   "language": "python",
   "name": "python3"
  },
  "language_info": {
   "codemirror_mode": {
    "name": "ipython",
    "version": 3
   },
   "file_extension": ".py",
   "mimetype": "text/x-python",
   "name": "python",
   "nbconvert_exporter": "python",
   "pygments_lexer": "ipython3",
   "version": "3.5.0"
  }
 },
 "nbformat": 4,
 "nbformat_minor": 1
}
